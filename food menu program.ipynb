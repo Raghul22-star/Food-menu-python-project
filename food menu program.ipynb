{
 "cells": [
  {
   "cell_type": "code",
   "execution_count": 13,
   "id": "86fa85e7-41e4-412d-a6f7-ab8d13efab66",
   "metadata": {},
   "outputs": [
    {
     "name": "stdout",
     "output_type": "stream",
     "text": [
      "****************TASTY FOODS****************\n"
     ]
    },
    {
     "name": "stdin",
     "output_type": "stream",
     "text": [
      "ENTER CUSTOMER NAME: ragul\n",
      "ENTER CUSTOMER MOBILE NUMBER: 1234567899\n"
     ]
    },
    {
     "name": "stdout",
     "output_type": "stream",
     "text": [
      "\n",
      "*************SUCCESSFULLY REGISTERED**************\n",
      "\n",
      "************HI ragul WELCOMES YOU*****\n",
      "\n",
      "**********************MENU*******************\n",
      "***********PRESS NUMBER 1 FOR PIZZA-200RUPEES ***************\n",
      "\n",
      "***********PRESS NUMBER 2 FOR HOTDOG-120RUPEES ***************\n",
      "\n",
      "***********PRESS NUMBER 3 FOR CHICKEN SANDWICH-160RUPEES ***************\n",
      "\n",
      "***********PRESS NUMBER 4 FOR CHICKEN BURGER-200RUPEES ***************\n",
      "\n",
      "***********PRESS NUMBER 5 FOR VEG BURGER-100RUPEES ***************\n",
      "\n",
      "***********PRESS NUMBER 6 FOR POPCORN-75RUPEES ***************\n",
      "\n",
      "***********PRESS NUMBER 7 FOR CHICKEN WINGS-250RUPEES ***************\n",
      "\n",
      "***********PRESS NUMBER 8 FOR YOUR CART AND BILL ***************\n",
      "\n",
      "***********PRESS NUMBER 9 FOR CANCEL ORDER ***************\n",
      "\n",
      "***********PRESS NUMBER 10 FOR EXIT APP ***************\n",
      "\n",
      "\n",
      "\n",
      "PRESS 8 TO SEE YOUR CART AND BILL\n",
      "PRESS 9 TO CANCEL THE FOOD WHICH YOU ARE SELECTED\n",
      "PRESS 10 TO EXIT THE APP\n"
     ]
    },
    {
     "name": "stdin",
     "output_type": "stream",
     "text": [
      "PLEASE CHOOSE NUMBER FROM THE ABOVE LIST(1-7): 6\n",
      "HOW MANY PACK OF POPCORN DO YOU WANT?: 2\n"
     ]
    },
    {
     "name": "stdout",
     "output_type": "stream",
     "text": [
      "\n",
      "PRESS 8 TO SEE YOUR CART AND BILL\n",
      "PRESS 9 TO CANCEL THE FOOD WHICH YOU ARE SELECTED\n",
      "PRESS 10 TO EXIT THE APP\n"
     ]
    },
    {
     "name": "stdin",
     "output_type": "stream",
     "text": [
      "PLEASE CHOOSE NUMBER FROM THE ABOVE LIST(1-7): 3\n",
      "HOW MANY PLATE SANDWICH DO YOU WANT?: 2\n"
     ]
    },
    {
     "name": "stdout",
     "output_type": "stream",
     "text": [
      "\n",
      "PRESS 8 TO SEE YOUR CART AND BILL\n",
      "PRESS 9 TO CANCEL THE FOOD WHICH YOU ARE SELECTED\n",
      "PRESS 10 TO EXIT THE APP\n"
     ]
    },
    {
     "name": "stdin",
     "output_type": "stream",
     "text": [
      "PLEASE CHOOSE NUMBER FROM THE ABOVE LIST(1-7): 8\n"
     ]
    },
    {
     "name": "stdout",
     "output_type": "stream",
     "text": [
      "**************YOUR CART*************\n",
      "{'POPCORN': 2, 'SANDWICH': 2}\n",
      "***********YOUR TOTAL BILL***********\n",
      "*********** 470 *********************\n",
      "\n",
      "PRESS 8 TO SEE YOUR CART AND BILL\n",
      "PRESS 9 TO CANCEL THE FOOD WHICH YOU ARE SELECTED\n",
      "PRESS 10 TO EXIT THE APP\n"
     ]
    },
    {
     "name": "stdin",
     "output_type": "stream",
     "text": [
      "PLEASE CHOOSE NUMBER FROM THE ABOVE LIST(1-7): 10\n",
      "ARE YOU SURE YOU WANT TO EXIT THE APP(Y/N)? y\n"
     ]
    }
   ],
   "source": [
    "# foods\n",
    "\n",
    "foods=[]\n",
    "prices=[]\n",
    "qus=[]\n",
    "bills={}\n",
    "foodies=[]\n",
    "pri=[]\n",
    "cart={}\n",
    "qua=[]\n",
    "\n",
    "print(\"****************TASTY FOODS****************\")\n",
    "cus1=input(\"ENTER CUSTOMER NAME:\")\n",
    "mob=input(\"ENTER CUSTOMER MOBILE NUMBER:\")\n",
    "print()\n",
    "if len(mob)==10:\n",
    "    print(\"*************SUCCESSFULLY REGISTERED**************\")\n",
    "    print()\n",
    "    x=True\n",
    "    print(\"************HI\",cus1,\"WELCOMES YOU*****\")\n",
    "    print()\n",
    "    re={\n",
    "    \"1\":\"PIZZA-200RUPEES\",\n",
    "    \"2\":\"HOTDOG-120RUPEES\",\n",
    "    \"3\":\"CHICKEN SANDWICH-160RUPEES\",\n",
    "    \"4\":\"CHICKEN BURGER-200RUPEES\",\n",
    "    \"5\":\"VEG BURGER-100RUPEES\",\n",
    "    \"6\":\"POPCORN-75RUPEES\",\n",
    "    \"7\":\"CHICKEN WINGS-250RUPEES\",\n",
    "    \"8\":\"YOUR CART AND BILL\",\n",
    "    \"9\":\"CANCEL ORDER\",\n",
    "    \"10\":\"EXIT APP\"\n",
    "     }\n",
    "    print(\"**********************MENU*******************\")\n",
    "    for i in re:\n",
    "        print(\"***********PRESS NUMBER\",i,\"FOR\",re[i],\"***************\")\n",
    "        print()\n",
    "\n",
    "else:\n",
    "    print(\"INVALID MOBILE NUMBER\")\n",
    "    x=False\n",
    "print()\n",
    "class restaruant:\n",
    "    \n",
    "    def pizza(self):\n",
    "        qua=int(input(\"HOW MANY PLATE PIZZA DO YOU WANT?:\"))\n",
    "        if qua>=1 and qua<=8:\n",
    "            food=\"PIZZA\"\n",
    "            price=qua*200\n",
    "            foods.append(food)\n",
    "            prices.append(price)\n",
    "            qus.append(qua)\n",
    "        else:\n",
    "            print(\"********************SORRY OUT OF STOCK PLEASE SELECT RANGE BETWEEN 1-8**********************************\")\n",
    "    def hotdog(self):\n",
    "        qua=int(input(\"HOW MANY PLATE HOTDOG DO YOU WANT?:\"))\n",
    "        if qua>=1 and qua<=8:\n",
    "            food=\"HOTDOG\"\n",
    "            price=qua*120\n",
    "            foods.append(food)\n",
    "            prices.append(price)\n",
    "            qus.append(qua)\n",
    "        else:\n",
    "            print(\"********************SORRY OUT OF STOCK PLEASE SELECT RANGE BETWEEN 1-8***********************************\")\n",
    "    def sandwich(self):\n",
    "        qua=int(input(\"HOW MANY PLATE SANDWICH DO YOU WANT?:\"))\n",
    "        if qua>=1 and qua<=8:\n",
    "            food=\"SANDWICH\"\n",
    "            price=qua*160\n",
    "            foods.append(food)\n",
    "            prices.append(price)\n",
    "            qus.append(qua)\n",
    "        else:\n",
    "            print(\"******************SORRY OUT OF STOCK PLEASE SELECT RANGE BETWEEN 1-8*************************************\")\n",
    "    def chicken_burger(self):\n",
    "        qua=int(input(\"HOW MANY PLATE CHICKEN_BURGER DO YOU WANT?:\"))\n",
    "        if qua>=1 and qua<=8:\n",
    "            food=\"CHICKEN_BURGER\"\n",
    "            price=qua*220\n",
    "            foods.append(food)\n",
    "            prices.append(price)\n",
    "            qus.append(qua)\n",
    "        else:\n",
    "            print(\"******************SORRY OUT OF STOCK PLEASE SELECT RANGE BETWEEN 1-8*************************************\")\n",
    "            \n",
    "    def veg_burger(self):\n",
    "        qua=int(input(\"HOW MANY PLATE VEG_BURGER DO YOU WANT?:\"))\n",
    "        if qua>=1 and qua<=8:\n",
    "            food=\"VEG_BURGER\"\n",
    "            price=qua*100\n",
    "            foods.append(food)\n",
    "            prices.append(price)\n",
    "            qus.append(qua)\n",
    "        else:\n",
    "            print(\"*******************SORRY OUT OF STOCK PLEASE SELECT RANGE BETWEEN 1-8************************************\")\n",
    "            \n",
    "    def popcorn(self):\n",
    "        qua=int(input(\"HOW MANY PACK OF POPCORN DO YOU WANT?:\"))\n",
    "        if qua>=1 and qua<=8:\n",
    "            food=\"POPCORN\"\n",
    "            price=qua*75\n",
    "            foods.append(food)\n",
    "            prices.append(price)\n",
    "            qus.append(qua)\n",
    "        else:\n",
    "            print(\"*******************SORRY OUT OF STOCK PLEASE SELECT RANGE BETWEEN 1-8************************************\")\n",
    "    def chicken_wings(self):\n",
    "        qua=int(input(\"HOW MANY PLATE CHICKEN_WINGS DO YOU WANT?:\"))\n",
    "        if qua>=1 and qua<=8:\n",
    "            food=\"CHICKEN_WINGS\"\n",
    "            price=qua*250\n",
    "            foods.append(food)\n",
    "            prices.append(price)\n",
    "            qus.append(qua)\n",
    "        else:\n",
    "            print(\"******************SORRY OUT OF STOCK PLEASE SELECT RANGE BETWEEN 1-8***************************************\")\n",
    "    def your_cart(self):\n",
    "        total=0\n",
    "        if not foods:\n",
    "            print(\"YOUR CART IS EMPTY YOU DIDN'T SELECT ANY FOODS\")\n",
    "        else:\n",
    "            for i in range(len(foods)):\n",
    "                bills[foods[i]]=qus[i]\n",
    "            print(\"**************YOUR CART*************\")\n",
    "            print(bills)\n",
    "            for j in prices:\n",
    "                total=total+j\n",
    "            print(\"***********YOUR TOTAL BILL***********\")\n",
    "            print(\"***********\",total,\"*********************\")\n",
    "    def order_cancel(self):\n",
    "        pp=0\n",
    "        print(foods)\n",
    "        print(prices)\n",
    "        if not foods:\n",
    "            print(\"********YOUR CART IS EMPTY THERE IS NOT FOOD TO CANCEL********\")\n",
    "        else:\n",
    "            p=int(input(\"FOOD CANCEL INDEX NUMBER:\")) \n",
    "            foods.pop(p)\n",
    "            prices.pop(p)\n",
    "            qus.pop(p)\n",
    "            print(\"*******************FOOD REMOVED SUCCESSFULLY FROM YOUR CART*************************\")\n",
    "            print(foods)\n",
    "            print(prices)\n",
    "            for tk in foods:\n",
    "                foodies.append(tk)\n",
    "            for sk in prices:\n",
    "                pri.append(sk)\n",
    "            for rh in qus:\n",
    "                qua.append(rh)\n",
    "            for ok in range(len(foodies)):\n",
    "                cart[foodies[ok]]=qua[ok]\n",
    "            for ss in pri:\n",
    "                pp=pp+ss\n",
    "            print(\"****************************NEW CART*************************************\")\n",
    "            print(cart)\n",
    "            print(\"****************************NEW BILL*************************************\")\n",
    "            print(\"****************************\",ss,\"****************************************\")\n",
    "        \n",
    "            \n",
    "                \n",
    "res=restaruant()\n",
    "while x:\n",
    "    print()\n",
    "    print(\"PRESS 8 TO SEE YOUR CART AND BILL\")\n",
    "    print(\"PRESS 9 TO CANCEL THE FOOD WHICH YOU ARE SELECTED\")\n",
    "    print(\"PRESS 10 TO EXIT THE APP\")\n",
    "    cus=int(input(\"PLEASE CHOOSE NUMBER FROM THE ABOVE LIST(1-7):\"))\n",
    "    \n",
    "    if cus==1:\n",
    "        res.pizza()\n",
    "    elif cus==2:\n",
    "        res.hotdog()\n",
    "    elif cus==3:\n",
    "        res.sandwich()\n",
    "    elif cus==4:\n",
    "        res.chicken_burger()\n",
    "    elif cus==5:\n",
    "        res.veg_burger()\n",
    "    elif cus==6:\n",
    "        res.popcorn()\n",
    "    elif cus==7:\n",
    "        res.chicken_wings()\n",
    "    elif cus==8:\n",
    "        res.your_cart()\n",
    "    elif cus==9:\n",
    "        res.order_cancel()\n",
    "    elif cus==10:\n",
    "        s=input(\"ARE YOU SURE YOU WANT TO EXIT THE APP(Y/N)?\")\n",
    "        if s.upper()==\"Y\" or s.lower()==\"y\":\n",
    "            break\n",
    "            print()\n",
    "        elif s.upper()==\"N\" or s.lower()==\"n\":\n",
    "            x=True\n",
    "        else:\n",
    "            print(\"***************INVALID CHARACTER***************\")\n",
    "        \n",
    "        \n",
    "    else:\n",
    "        print()\n",
    "        print(\"SORRY\",cus1,\"YOU PRESEED INVALID NUMBER! PLEASE MAKE AN ORDER BETWEEN 1-7\")  \n",
    "        print(\"PRESS 8 FOR YOUR ORDERED FOOD BILL\")\n",
    "        print(\"PRESS 10 TO EXIT THE APP\")"
   ]
  },
  {
   "cell_type": "code",
   "execution_count": 13,
   "id": "6ff7d8ab-138a-406c-b8df-910b4a6789b3",
   "metadata": {},
   "outputs": [
    {
     "name": "stdout",
     "output_type": "stream",
     "text": [
      "raghul is good boy he born on 2003\n",
      "ranjith is good boy he born on 2008\n"
     ]
    }
   ],
   "source": []
  },
  {
   "cell_type": "code",
   "execution_count": 18,
   "id": "cc6fe0e8-93c8-4165-b1da-3b684b4f1874",
   "metadata": {},
   "outputs": [
    {
     "name": "stdout",
     "output_type": "stream",
     "text": [
      "total 10\n"
     ]
    }
   ],
   "source": []
  },
  {
   "cell_type": "code",
   "execution_count": 2,
   "id": "f73fa8f7-5db9-4307-8dbe-f1b11db24ae7",
   "metadata": {},
   "outputs": [],
   "source": [
    "import random as rd"
   ]
  },
  {
   "cell_type": "code",
   "execution_count": 10,
   "id": "fe7f50d9-c91d-43d5-b53e-3ec5017aca3c",
   "metadata": {},
   "outputs": [
    {
     "name": "stdin",
     "output_type": "stream",
     "text": [
      "MOBILE NUMBER: 1234567890\n"
     ]
    },
    {
     "name": "stdout",
     "output_type": "stream",
     "text": [
      "mobile registered\n",
      "otp is send to the 1234567890\n",
      "YOUR OTP: 4884\n"
     ]
    },
    {
     "name": "stdin",
     "output_type": "stream",
     "text": [
      "ENTER THE OTP: 4884\n"
     ]
    },
    {
     "name": "stdout",
     "output_type": "stream",
     "text": [
      "registered successfully\n"
     ]
    }
   ],
   "source": [
    "d=input(\"MOBILE NUMBER:\")\n",
    "if len(d)==10:\n",
    "    print(\"mobile registered\")\n",
    "    f=rd.randint(1000,9999)\n",
    "    print(\"otp is send to the\",d)\n",
    "    print(\"YOUR OTP:\",f)\n",
    "s=int(input(\"ENTER THE OTP:\"))\n",
    "if s==f:\n",
    "    print(\"registered successfully\")"
   ]
  },
  {
   "cell_type": "code",
   "execution_count": null,
   "id": "dbfece7d-1c1f-42cb-82f6-90a964c3b4c7",
   "metadata": {},
   "outputs": [],
   "source": []
  }
 ],
 "metadata": {
  "kernelspec": {
   "display_name": "Python 3 (ipykernel)",
   "language": "python",
   "name": "python3"
  },
  "language_info": {
   "codemirror_mode": {
    "name": "ipython",
    "version": 3
   },
   "file_extension": ".py",
   "mimetype": "text/x-python",
   "name": "python",
   "nbconvert_exporter": "python",
   "pygments_lexer": "ipython3",
   "version": "3.12.5"
  }
 },
 "nbformat": 4,
 "nbformat_minor": 5
}
